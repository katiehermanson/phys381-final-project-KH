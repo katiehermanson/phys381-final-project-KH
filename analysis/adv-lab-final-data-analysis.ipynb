{
 "cells": [
  {
   "cell_type": "code",
   "execution_count": 25,
   "id": "0783d1f4-ea47-4be8-8774-445cfcf3efb7",
   "metadata": {},
   "outputs": [],
   "source": [
    "import pandas as pd\n",
    "import matplotlib.pyplot as plt\n",
    "import matplotlib as mpl\n",
    "from matplotlib import colormaps, axes, rcParams, figure\n",
    "from matplotlib.colors import LinearSegmentedColormap, ListedColormap\n",
    "import numpy as np\n",
    "import astropy.table as table\n",
    "mpl.rcParams['figure.dpi']= 300\n",
    "%matplotlib inline"
   ]
  },
  {
   "cell_type": "code",
   "execution_count": 27,
   "id": "a7039ed9-ca51-4871-878b-e62fef861ea7",
   "metadata": {},
   "outputs": [],
   "source": [
    "#import local volume from https://github.com/apace7/local_volume_database/tree/main\n",
    "dwarfall = table.Table.read('/users/khermanson/Downloads/EDGE/dwarf_all.csv')\n",
    "gcdisk = table.Table.read('/users/khermanson/Downloads/EDGE/gc_disk.csv')\n",
    "gcharris = table.Table.read('/users/khermanson/Downloads/EDGE/gc_harris.csv')\n",
    "gcufsc = table.Table.read('/users/khermanson/Downloads/EDGE/gc_ufsc.csv')\n",
    "gchosted = table.Table.read('/users/khermanson/Downloads/EDGE/gc_dwarf_hosted.csv')"
   ]
  },
  {
   "cell_type": "code",
   "execution_count": 33,
   "id": "a174788d-031f-4067-97a3-c78631da7ab7",
   "metadata": {},
   "outputs": [],
   "source": [
    "# import local volume csv files\n",
    "\n",
    "#dwarfdyn = table.Table.read('/users/khermanson/Downloads/EDGE/Dwarfs_All_Dynamical_Mass.csv')\n",
    "#gcsdyn = table.Table.read('/users/khermanson/Downloads/EDGE/GCs_Dynamical_Mass.csv')\n",
    "#unclassifieddyn = table.Table.read('/users/khermanson/Downloads/EDGE/Unclassified_Dynamical_Mass.csv')\n",
    "\n",
    "dwarf_LV = table.Table.read('/users/khermanson/Downloads/ADVLAB2/phys381-final-project-KH/adv-lab-dwarfs-all-dyn.csv')\n",
    "gcs_LV = table.Table.read('/users/khermanson/Downloads/ADVLAB2/phys381-final-project-KH/adv-lab-gcs-dyn.csv')\n",
    "unclassified_LV = table.Table.read('/users/khermanson/Downloads/ADVLAB2/phys381-final-project-KH/adv-lab-unclassified-dyn.csv')"
   ]
  },
  {
   "cell_type": "code",
   "execution_count": null,
   "id": "134196c4-b3c8-41db-893d-c433bdba1a42",
   "metadata": {},
   "outputs": [],
   "source": [
    "# import EDGE simulation data csv files\n",
    "cdm339 - table.Table.read('/users/khermanson/Downloads/ADVLAB2/phys381-final-project-KH/adv-lab-dwarfs-all-dyn.csv')"
   ]
  },
  {
   "cell_type": "code",
   "execution_count": null,
   "id": "e28b0853-8763-47dd-a67b-52b4959b2032",
   "metadata": {},
   "outputs": [],
   "source": []
  },
  {
   "cell_type": "code",
   "execution_count": null,
   "id": "28da614d-3f05-401b-baee-c9f7bcc009ab",
   "metadata": {},
   "outputs": [],
   "source": []
  },
  {
   "cell_type": "code",
   "execution_count": null,
   "id": "5c655c5d-f3dd-45b3-9592-ed5fbcf44779",
   "metadata": {},
   "outputs": [],
   "source": []
  },
  {
   "cell_type": "code",
   "execution_count": null,
   "id": "7534d903-b37e-41b8-af11-9d94cc0f0f75",
   "metadata": {},
   "outputs": [],
   "source": []
  },
  {
   "cell_type": "code",
   "execution_count": null,
   "id": "ccca9882-dbf7-438e-8a18-345c68e03613",
   "metadata": {},
   "outputs": [],
   "source": []
  },
  {
   "cell_type": "code",
   "execution_count": null,
   "id": "b8829d29-0908-4189-ac83-63b17fabbd9e",
   "metadata": {},
   "outputs": [],
   "source": []
  },
  {
   "cell_type": "code",
   "execution_count": null,
   "id": "215603c1-e339-42b6-aa45-a1b31b8d9047",
   "metadata": {},
   "outputs": [],
   "source": []
  },
  {
   "cell_type": "code",
   "execution_count": null,
   "id": "8b1b2bf7-f370-4626-9469-dd306cc9316a",
   "metadata": {},
   "outputs": [],
   "source": []
  },
  {
   "cell_type": "code",
   "execution_count": null,
   "id": "1a8b3297-8143-4eb1-a5b1-0948a73dc606",
   "metadata": {},
   "outputs": [],
   "source": []
  },
  {
   "cell_type": "code",
   "execution_count": null,
   "id": "debbc7bb-c46d-4277-bb86-399823524c09",
   "metadata": {},
   "outputs": [],
   "source": []
  },
  {
   "cell_type": "code",
   "execution_count": null,
   "id": "243996df-8640-4c9a-8bee-6c6e5890e50b",
   "metadata": {},
   "outputs": [],
   "source": []
  },
  {
   "cell_type": "code",
   "execution_count": null,
   "id": "2cf9b04e-02e9-44d2-8d69-c2fe4975b31b",
   "metadata": {},
   "outputs": [],
   "source": []
  },
  {
   "cell_type": "code",
   "execution_count": null,
   "id": "81d58e1f-4710-45ec-bcac-cff935753d01",
   "metadata": {},
   "outputs": [],
   "source": []
  },
  {
   "cell_type": "code",
   "execution_count": null,
   "id": "a3dfcc03-b336-4976-b436-75a087986370",
   "metadata": {},
   "outputs": [],
   "source": []
  },
  {
   "cell_type": "code",
   "execution_count": null,
   "id": "620a45c9-7661-476b-b9eb-6cb936325498",
   "metadata": {},
   "outputs": [],
   "source": []
  },
  {
   "cell_type": "code",
   "execution_count": null,
   "id": "ca969b5f-e203-4d7a-9060-6a5c88ecb998",
   "metadata": {},
   "outputs": [],
   "source": []
  },
  {
   "cell_type": "code",
   "execution_count": null,
   "id": "9d37c535-34a5-450e-8651-3fb6321bed8c",
   "metadata": {},
   "outputs": [],
   "source": []
  },
  {
   "cell_type": "code",
   "execution_count": null,
   "id": "e85710f8-b0dc-4f06-acef-91bfe3f1b009",
   "metadata": {},
   "outputs": [],
   "source": []
  },
  {
   "cell_type": "code",
   "execution_count": null,
   "id": "a2a40ae9-a728-411b-9b9c-9df314d1b989",
   "metadata": {},
   "outputs": [],
   "source": []
  }
 ],
 "metadata": {
  "kernelspec": {
   "display_name": "Python 3 (ipykernel)",
   "language": "python",
   "name": "python3"
  },
  "language_info": {
   "codemirror_mode": {
    "name": "ipython",
    "version": 3
   },
   "file_extension": ".py",
   "mimetype": "text/x-python",
   "name": "python",
   "nbconvert_exporter": "python",
   "pygments_lexer": "ipython3",
   "version": "3.11.7"
  }
 },
 "nbformat": 4,
 "nbformat_minor": 5
}
