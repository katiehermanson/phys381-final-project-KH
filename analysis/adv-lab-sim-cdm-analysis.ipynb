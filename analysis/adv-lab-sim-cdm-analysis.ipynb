{
 "cells": [
  {
   "cell_type": "code",
   "execution_count": null,
   "id": "6ed861c9-feb5-4d0e-acc2-b92e8865c703",
   "metadata": {},
   "outputs": [],
   "source": [
    "import pynbody\n",
    "import tangos\n",
    "import edge_tangos_properties as etp\n",
    "import numpy as np\n",
    "import statistics"
   ]
  },
  {
   "cell_type": "code",
   "execution_count": null,
   "id": "908361d9-6f01-4008-9e13-72de738cc084",
   "metadata": {},
   "outputs": [],
   "source": [
    "tangos.core.init_db('/scratch/dp191/shared/tangos/HALO_DATABASE_HERE')\n",
    "# halo tangos database = Halo339.db, Halo261.db\n",
    "sim = tangos.get_simulation('HALO_SIM_HERE')\n",
    "# halo sim = Halo339_RT, Halo261_RT, Halo339_wdm3_RT, Halo339_wdm6_RT"
   ]
  },
  {
   "cell_type": "code",
   "execution_count": null,
   "id": "0a7dd37d-b192-470a-9789-1cf7146499d3",
   "metadata": {},
   "outputs": [],
   "source": [
    "contam, no_stars, mdm, mstar, tangosid, pynbodyid, shrinkcenter, r200c = sim.timesteps[-1].calculate_all('contamination_fraction<0.01', 'M200c_stars>0', 'M200c_DM', 'M200c_stars', 'halo_number()', 'finder_id()', 'shrink_center','r200c')"
   ]
  },
  {
   "cell_type": "code",
   "execution_count": null,
   "id": "f916a20e-2011-4018-8aed-39c7af0e1de1",
   "metadata": {},
   "outputs": [],
   "source": [
    "# Halo339 - last timestep 00139\n",
    "# Halo261 - last timestep 00177\n",
    "# Halo339 wdm 3 - last timestep 00130\n",
    "# Halo339 wdm 6 - last timestep 00137"
   ]
  },
  {
   "cell_type": "code",
   "execution_count": null,
   "id": "6f42fcd1-0548-4fac-8db9-15253cd4f10c",
   "metadata": {},
   "outputs": [],
   "source": [
    "s = pynbody.load('/scratch/dp191/shared/EDGE2_simulations/HALO_SIM_HERE/output_00000/')\n",
    "s.physical_units()\n",
    "\n",
    "index=[]\n",
    "tangosnumber=[]\n",
    "pynbodynumber=[]\n",
    "stellar_mass=[]\n",
    "logstellar_mass=[]\n",
    "halo_mass=[]\n",
    "vmags=[]\n",
    "meanfeh=[]\n",
    "fehspread=[]\n",
    "sigmalineofsight=[]\n",
    "rhalf_pc=[]\n",
    "rhalf_kpc=[]\n",
    "agedispersion_gyr=[]\n",
    "agedispersion_myr=[]\n",
    "agedifference_gyr=[]\n",
    "agedifference_myr=[]\n",
    "numstars=[]\n",
    "formationtimes_gyr=[]\n",
    "#dynamicalmass=[]\n",
    "smplushm=[]\n",
    "massratio=[]\n",
    "\n",
    "for i in range(len(contam)):\n",
    "    if  contam[i] * no_stars[i]:\n",
    "        s['pos'] -=shrinkcenter[i]\n",
    "        h = s[pynbody.filt.Sphere(pynbody.array.SimArray(r200c[i], units='kpc'))]\n",
    "        h.s['tform']\n",
    "        starparticles = len(h.s)\n",
    "        deltaage = np.ptp(h.s['tform']) \n",
    "        sigmaage = np.std(h.s['tform'])\n",
    "        formtimes_gyr = statistics.median(h.s['tform']) \n",
    "        halo = sim.timesteps.halos[tangosid[i]-1]\n",
    "# in case etp is needed for calculating v band mags and velocity dispersion\n",
    "    #mag_calculator = etp.stars.Magnitude(h)\n",
    "    #v_band, u_band, b_band, r_band = mag_calculator.calculate(h, sim.timesteps[-1].halos[tangosid[i]-1])\n",
    "    #stellar1Dveldisp = etp.stars.VelocityDispersion(h)\n",
    "    #sigma_3d, sigma_1d = stellar1Dveldisp.calculate(h, sim.timesteps[-1].halos[tangosid[i]-1])\n",
    "        rhalf = pynbody.analysis.luminosity.half_light_r(h,cylindrical=True)\n",
    "        metals = etp.stars.AbundanceRatios(h)\n",
    "        try:\n",
    "            iron_hydrogen_ratios, oxygen_iron_ratios, mean_iron_hydrogen_ratio = metals.calculate(h, sim.timesteps[-1].halos[tangosid[i]-1])\n",
    "        except: ZeroDivisisonError:\n",
    "            iron_hydrogen_ratios = np.nan\n",
    "            mean_iron_hydrogen_ratio = np.nan\n",
    "        ironhydrogenspread = np.std([iron_hydrogen_ratios])\n",
    "        v_band = halo['stellar_V_mag']\n",
    "# these three properties have not been calculated for all halos in new databases\n",
    "    #rhalf = halo['stellar_projected_halflight'] \n",
    "    #mean_iron_hydrogen_ratio = halo['mean_iron_hydrogen_ratio']\n",
    "    #ironhydrogenspread = np.std(halo['iron_hydrogen_ratios'])\n",
    "        stellar1Dveldisp = halo['stellar_1D_velocity_dispersion']\n",
    "        s['pos'] += shrinkcenter[i]\n",
    "        print(i, tangosid[i], pynbodyid[i])\n",
    "        #all properties\n",
    "        index+=[i]\n",
    "        tangosnumber+=[tangosid[i]]\n",
    "        pynbodynumber+=[pynbodyid[i]]\n",
    "        stellar_mass+=[mstar[i]]\n",
    "        logstellar_mass+=[np.log10(mstar[i])]\n",
    "        halo_mass+=[mdm[i]]\n",
    "        vmags+=[v_band]\n",
    "        meanfeh+=[mean_iron_hydrogen_ratio]\n",
    "        fehspread+=[ironhydrogenspread]\n",
    "        sigmalineofsight+=[stellar1Dveldisp]\n",
    "        rhalf_kpc+=[rhalf]\n",
    "        rhalf_pc+=[rhalf*1000]\n",
    "        agedispersion_gyr+=[sigmaage]\n",
    "        agedispersion_myr+=[sigmaage*1000]\n",
    "        agedifference_gyr+=[deltaage]\n",
    "        agedifference_myr+=[deltaage*1000]\n",
    "        numstars+=[starparticles]\n",
    "        formationtimes_gyr+=[formtimes_gyr]\n",
    "        #dynamicalmass+=[np.log10(((rhalf*1000)*(stellar1Dveldisp**2))/(0.004301))]\n",
    "        smplushm+=[mstar[i]+mdm[i]]\n",
    "        massratio+=[np.log10(mstar[i]/(mstar[i]+mdm[i]))]\n",
    "print('total number of halos',len(index))\n",
    "np.savetxt('titlehere.csv',np.transpose(np.array([index,tangosnumber,pynbodynumber,stellar_mass,logstellar_mass,halo_mass,vmags,meanfeh,fehspread,sigmalineofsight,rhalf_kpc,rhalf_pc,agedispersion_gyr,agedispersion_myr,agedifference_myr,numstars,formationtimes_gyr,smplushm,massratio])),header='Index,Tangos Halo ID,Pynbody Halo ID,Stellar Mass,Log Stellar Mass,Halo Mass,V-band Mags,Mean FeH,FeH Spread,Sigma Line of Sight,Half Light Radius (kpc),Half Light Radius (pc),Age Dispersion (Gyr),Age Dispersion (Myr),Age Difference (Myr),Number of Stars,Formation Time (Gyr),Stellar Mass Plus Halo Mass,Mass Ratio',delimiter=',',comments='',fmt='%s')\n",
    "\n"
   ]
  }
 ],
 "metadata": {
  "kernelspec": {
   "display_name": "Python 3 (ipykernel)",
   "language": "python",
   "name": "python3"
  },
  "language_info": {
   "codemirror_mode": {
    "name": "ipython",
    "version": 3
   },
   "file_extension": ".py",
   "mimetype": "text/x-python",
   "name": "python",
   "nbconvert_exporter": "python",
   "pygments_lexer": "ipython3",
   "version": "3.11.7"
  }
 },
 "nbformat": 4,
 "nbformat_minor": 5
}
